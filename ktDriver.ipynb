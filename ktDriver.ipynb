{
 "cells": [
  {
   "cell_type": "code",
   "execution_count": 1,
   "id": "0422388c",
   "metadata": {},
   "outputs": [],
   "source": [
    "from jdrugingredient import jdrugingredient as dg"
   ]
  },
  {
   "cell_type": "code",
   "execution_count": 7,
   "id": "221bbed9-4102-4fc3-863c-b858591a8c30",
   "metadata": {},
   "outputs": [
    {
     "name": "stdout",
     "output_type": "stream",
     "text": [
      "Here are the results that we found:\n",
      "            Brand Name Ingredient\n",
      "0  Isopto Carbachol 3%  CARBACHOL\n",
      "Here are the results that we found:\n",
      "        Brand Name  Ingredient\n",
      "0  Lip Balm Spf 15  OCTINOXATE\n",
      "1  Lip Balm Spf 15  OXYBENZONE\n"
     ]
    }
   ],
   "source": [
    "# Case 1 : These are records with only 1 ingredient row\n",
    "print(dg(\"ISOPTO CARBACHOL 3%\"))  #255\n",
    "print(dg(\"LIP BALM SPF 15\"))\n",
    "#print(dg(\"SULFAMETHAZINE\"))  # 225"
   ]
  },
  {
   "cell_type": "code",
   "execution_count": 3,
   "id": "39a6fc4d-3ef0-4ae3-83c1-77801fd47391",
   "metadata": {},
   "outputs": [
    {
     "name": "stdout",
     "output_type": "stream",
     "text": [
      "Here are the results that we found:\n",
      "           Brand Name           Ingredient\n",
      "0  Tuinal Pulvule 303  SECOBARBITAL SODIUM\n",
      "1  Tuinal Pulvule 303   AMOBARBITAL SODIUM\n",
      "Here are the results that we found:\n",
      "                               Brand Name  \\\n",
      "0  Highmark Disinfectant Wipes-Scent Free   \n",
      "1  Highmark Disinfectant Wipes-Scent Free   \n",
      "\n",
      "                                     Ingredient  \n",
      "0  ALKYL DIMETHYL ETHYLBENZYL AMMONIUM CHLORIDE  \n",
      "1                         BENZALKONIUM CHLORIDE  \n",
      "Here are the results that we found:\n",
      "        Brand Name  Ingredient\n",
      "0  Lip Balm Spf 15  OCTINOXATE\n",
      "1  Lip Balm Spf 15  OXYBENZONE\n"
     ]
    }
   ],
   "source": [
    "# Case 2 : These are the records with more than 1 ingredient row\n",
    "print(dg(\"TUINAL PULVULE 303\"))  # 7\n",
    "print(dg(\"HIGHMARK DISINFECTANT WIPES-SCENT FREE\")) #102315\n",
    "print(dg(\"LIP BALM SPF 15\")) #18255\n",
    "# other rec with more than 1 ingredient : 8,23,27,102347"
   ]
  },
  {
   "cell_type": "code",
   "execution_count": 9,
   "id": "8c702851-b52f-4876-a9f9-dbca90087867",
   "metadata": {},
   "outputs": [
    {
     "name": "stdout",
     "output_type": "stream",
     "text": [
      "Here are the results that we found:\n",
      "Empty DataFrame\n",
      "Columns: [Brand Name, Ingredient]\n",
      "Index: []\n"
     ]
    }
   ],
   "source": [
    "# Case 3 : Incomplete Drug Name as input, should return empty DF\n",
    "print(dg(\"PLACIDYL CA 200MG\"))\n"
   ]
  },
  {
   "cell_type": "code",
   "execution_count": null,
   "id": "2a8e312e-b4ac-466a-b054-2f5c3e2f569b",
   "metadata": {},
   "outputs": [],
   "source": []
  }
 ],
 "metadata": {
  "kernelspec": {
   "display_name": "Python 3 (ipykernel)",
   "language": "python",
   "name": "python3"
  },
  "language_info": {
   "codemirror_mode": {
    "name": "ipython",
    "version": 3
   },
   "file_extension": ".py",
   "mimetype": "text/x-python",
   "name": "python",
   "nbconvert_exporter": "python",
   "pygments_lexer": "ipython3",
   "version": "3.9.15"
  }
 },
 "nbformat": 4,
 "nbformat_minor": 5
}
