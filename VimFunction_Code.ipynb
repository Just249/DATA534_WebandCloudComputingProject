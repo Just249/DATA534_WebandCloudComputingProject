{
 "cells": [
  {
   "cell_type": "markdown",
   "id": "219258ad",
   "metadata": {},
   "source": [
    "# DPD: https://hc-sc.api.canada.ca/en/detail?api=dpd"
   ]
  },
  {
   "cell_type": "markdown",
   "id": "db945bf2",
   "metadata": {},
   "source": [
    "# Proposal doc: https://docs.google.com/document/d/128oqdYTQZlLPJ-27skiBgmtsQWWZTLdVywOakLa9pXs/edit#"
   ]
  },
  {
   "cell_type": "markdown",
   "id": "f4e4f737",
   "metadata": {},
   "source": [
    "# API Link: https://hc-sc.api.canada.ca/en/detail?api=dpd"
   ]
  },
  {
   "cell_type": "markdown",
   "id": "387ddfb3",
   "metadata": {},
   "source": [
    "# Shared folder: https://drive.google.com/drive/folders/1XugzH0YeDCE5lcN3C_7m71TPRnIV7DO7"
   ]
  },
  {
   "cell_type": "code",
   "execution_count": 25,
   "id": "9849603a",
   "metadata": {},
   "outputs": [],
   "source": [
    "import pandas as pd\n",
    "import requests\n",
    "from pprint import pprint\n",
    "import requests\n",
    "import time\n",
    "\n",
    "# credentials\n",
    "key = \"14ec6574be9f7ef563bce7b554798152\"\n",
    "Cookie = \"38771cce9ac0f974522b34af498bfe66=56e404caec9315398b6da15a1e47abfc\"\n",
    "\n",
    "url = \"https://dpd-hc-sc-apicast-production.api.canada.ca/v1/drugproduct?lang=en&type=json&status=1&user-key=\"\n",
    "url += key\n",
    "\n",
    "headers = {\n",
    "  'user-key': key,\n",
    "  'Cookie': Cookie\n",
    "}\n",
    "\n",
    "response = requests.request(\"GET\", url, headers=headers)\n",
    "data = response.json()\n",
    "\n",
    "drug_codes = []\n",
    "brand_names = []\n",
    "code_brands = []\n",
    "\n",
    "n = len(data)\n",
    "# print( (data[7]['drug_code'], data[7]['brand_name'] ) )\n",
    "for i in range(n):\n",
    "    drug_codes.append(data[i]['drug_code'])\n",
    "    brand_names.append(data[i]['brand_name'])\n",
    "    code_brands.append((data[i]['drug_code'],data[i]['brand_name']))\n",
    "    \n",
    "df = pd.DataFrame({'drug_code': drug_codes, 'brand_name': brand_names})"
   ]
  },
  {
   "cell_type": "code",
   "execution_count": 26,
   "id": "7d6679a1",
   "metadata": {},
   "outputs": [],
   "source": [
    "# brand_names[4111]"
   ]
  },
  {
   "cell_type": "code",
   "execution_count": 35,
   "id": "1327948d",
   "metadata": {},
   "outputs": [
    {
     "name": "stdout",
     "output_type": "stream",
     "text": [
      "['ACETAMINOPHEN 325MG', 'ACETAMINOPHEN 325MG + METHOCARBAMOL 400MG CAPLETS']\n",
      "[71762, 80260]\n"
     ]
    }
   ],
   "source": [
    "# filtering drug ids and brand names\n",
    "\n",
    "#user input\n",
    "user_input = \"aceTAMINOPHEN 325mG\"\n",
    "# user_input = \"CLONAZEPAM\"\n",
    "# user_input = \"BROMAZEPAM\"\n",
    "# user_input = \"LIP BALM SPF 15\"\n",
    "# user_input = \"EPHEDRINE SULFATE INJECTION USP\"\n",
    "\n",
    "user_input = user_input.lower()\n",
    "filters = []\n",
    "\n",
    "# finding matching brand names\n",
    "for brand in brand_names:\n",
    "    if user_input in brand.lower():\n",
    "#         print(brand_name.index(brand))\n",
    "        filters.append(brand)\n",
    "    \n",
    "filters = list(set(filters)) # removing duplicates\n",
    "\n",
    "# finding corresponding drug ids\n",
    "filters_ids = []\n",
    "for item in filters:\n",
    "    k = brand_names.index(item)\n",
    "    filters_ids.append(drug_codes[k])\n",
    "\n",
    "# checking drug ids and brand names that are filtered    \n",
    "pprint(filters)\n",
    "pprint(filters_ids)"
   ]
  },
  {
   "cell_type": "markdown",
   "id": "cefd5cd6",
   "metadata": {},
   "source": [
    "# route of administration and form of the drug "
   ]
  },
  {
   "cell_type": "code",
   "execution_count": 36,
   "id": "c57412fc",
   "metadata": {},
   "outputs": [
    {
     "data": {
      "text/html": [
       "<div>\n",
       "<style scoped>\n",
       "    .dataframe tbody tr th:only-of-type {\n",
       "        vertical-align: middle;\n",
       "    }\n",
       "\n",
       "    .dataframe tbody tr th {\n",
       "        vertical-align: top;\n",
       "    }\n",
       "\n",
       "    .dataframe thead th {\n",
       "        text-align: right;\n",
       "    }\n",
       "</style>\n",
       "<table border=\"1\" class=\"dataframe\">\n",
       "  <thead>\n",
       "    <tr style=\"text-align: right;\">\n",
       "      <th></th>\n",
       "      <th>Brand Name</th>\n",
       "      <th>Form</th>\n",
       "      <th>Administration Route</th>\n",
       "    </tr>\n",
       "  </thead>\n",
       "  <tbody>\n",
       "    <tr>\n",
       "      <th>0</th>\n",
       "      <td>Acetaminophen 325Mg</td>\n",
       "      <td>Tablet</td>\n",
       "      <td>Oral</td>\n",
       "    </tr>\n",
       "    <tr>\n",
       "      <th>1</th>\n",
       "      <td>Acetaminophen 325Mg + Methocarbamol 400Mg Caplets</td>\n",
       "      <td>Tablet</td>\n",
       "      <td>Oral</td>\n",
       "    </tr>\n",
       "  </tbody>\n",
       "</table>\n",
       "</div>"
      ],
      "text/plain": [
       "                                          Brand Name    Form  \\\n",
       "0                                Acetaminophen 325Mg  Tablet   \n",
       "1  Acetaminophen 325Mg + Methocarbamol 400Mg Caplets  Tablet   \n",
       "\n",
       "  Administration Route  \n",
       "0                 Oral  \n",
       "1                 Oral  "
      ]
     },
     "execution_count": 36,
     "metadata": {},
     "output_type": "execute_result"
    }
   ],
   "source": [
    "# some empty declarations\n",
    "form_list = []\n",
    "route_list = []\n",
    "brand_namelist=[]\n",
    "\n",
    "# creating urls\n",
    "route_url = \"https://dpd-hc-sc-apicast-production.api.canada.ca/v1/route?lang=en&type=json&id=\"\n",
    "form_url = \"https://dpd-hc-sc-apicast-production.api.canada.ca/v1/form?lang=en&type=json&id=\"\n",
    "\n",
    "# inputting drug ids and retrieving results\n",
    "for drug_id in filters_ids:\n",
    "\n",
    "    # creating url\n",
    "    route_url += (str(drug_id) + \"&active=yes\")\n",
    "    form_url += (str(drug_id) + \"&active=yes\")\n",
    "\n",
    "    # getting responses\n",
    "    route_response = requests.request(\"GET\", route_url, headers=headers)\n",
    "    time.sleep(1)\n",
    "    form_response = requests.request(\"GET\", form_url, headers=headers)\n",
    "\n",
    "    # converting to list of dictionaries\n",
    "    route_data = route_response.json()\n",
    "    form_data = form_response.json()\n",
    "    # extracting required information\n",
    "    \n",
    "    form_list.append(form_data[0]['pharmaceutical_form_name'])\n",
    "    route_list.append(route_data[0]['route_of_administration_name'])\n",
    "    brand_namelist.append(filters[filters_ids.index(drug_id)].title())\n",
    "\n",
    "ff_d = {'Brand Name':brand_namelist, 'Form': form_list, 'Administration Route': route_list}\n",
    "ff = pd.DataFrame(ff_d)\n",
    "ff"
   ]
  }
 ],
 "metadata": {
  "kernelspec": {
   "display_name": "Python 3 (ipykernel)",
   "language": "python",
   "name": "python3"
  },
  "language_info": {
   "codemirror_mode": {
    "name": "ipython",
    "version": 3
   },
   "file_extension": ".py",
   "mimetype": "text/x-python",
   "name": "python",
   "nbconvert_exporter": "python",
   "pygments_lexer": "ipython3",
   "version": "3.9.15"
  }
 },
 "nbformat": 4,
 "nbformat_minor": 5
}
