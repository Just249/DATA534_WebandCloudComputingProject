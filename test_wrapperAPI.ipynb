{
 "cells": [
  {
   "cell_type": "code",
   "execution_count": 1,
   "id": "63f480fb",
   "metadata": {},
   "outputs": [
    {
     "name": "stdout",
     "output_type": "stream",
     "text": [
      "Here are the results that we found:\n"
     ]
    },
    {
     "name": "stderr",
     "output_type": "stream",
     "text": [
      "test_DrugConsumption (__main__.test_jdrugconsumption) ... ok\n",
      "\n",
      "----------------------------------------------------------------------\n",
      "Ran 1 test in 0.002s\n",
      "\n",
      "OK\n"
     ]
    },
    {
     "name": "stdout",
     "output_type": "stream",
     "text": [
      "Here are the results that we found:\n",
      "\n",
      "\u001b[1mThis is the setUp of test_jdrugconsumption.\n",
      "\n",
      " All good.\n",
      "\n",
      "This is the tearDown of test_jdrugconsumption\n"
     ]
    },
    {
     "data": {
      "text/plain": [
       "<unittest.main.TestProgram at 0x26ff42ee940>"
      ]
     },
     "execution_count": 1,
     "metadata": {},
     "output_type": "execute_result"
    }
   ],
   "source": [
    "import pandas as pd\n",
    "import unittest\n",
    "from jdrugconsumption import jdrugconsumption as jdg\n",
    "\n",
    "t1 = jdg(\"LIP BALM SPF 15\")\n",
    "t2 = jdg(\"\")\n",
    "\n",
    "class test_jdrugconsumption(unittest.TestCase):\n",
    "    \n",
    "    def setUp(self):\n",
    "        print(\"\\n\\033[1mThis is the setUp of test_jdrugconsumption.\\n\\n All good.\")\n",
    "    \n",
    "    def tearDown(self):\n",
    "        print(\"\\nThis is the tearDown of test_jdrugconsumption\")\n",
    "        \n",
    "    def test_DrugConsumption(self):\n",
    "        self.assertEqual(str(type(t1)),\"<class 'pandas.core.frame.DataFrame'>\")\n",
    "        self.assertEqual(isinstance(t1, pd.DataFrame), 1)\n",
    "        self.assertAlmostEqual(t1.iloc[0,0], \"Lip Balm Spf 15\")\n",
    "        self.assertNotEqual(isinstance(t1, pd.DataFrame), 0)\n",
    "        self.assertAlmostEqual(t1.iloc[0,1], \"Ointment\")\n",
    "        self.assertEqual(str(type(t2[\"Brand Name\"])),\"<class 'pandas.core.series.Series'>\")\n",
    "        self.assertNotEqual(str(type(t2)),\"<class 'pandas.core.series.Series'>\")\n",
    "        self.assertNotEqual(t2.empty, 0)\n",
    "  \n",
    "            \n",
    "unittest.main(argv=[''], verbosity=2, exit=False)"
   ]
  },
  {
   "cell_type": "code",
   "execution_count": 2,
   "id": "f48d601c",
   "metadata": {},
   "outputs": [],
   "source": [
    "# myinstance = dg(\"LIP BALM SPF 15\")\n",
    "# mytype = str(type(myinstance)) \n",
    "# mytypec = \"<class 'pandas.core.frame.DataFrame'>\"\n",
    "# isinstance(myinstance, pd.DataFrame)"
   ]
  }
 ],
 "metadata": {
  "kernelspec": {
   "display_name": "Python 3 (ipykernel)",
   "language": "python",
   "name": "python3"
  },
  "language_info": {
   "codemirror_mode": {
    "name": "ipython",
    "version": 3
   },
   "file_extension": ".py",
   "mimetype": "text/x-python",
   "name": "python",
   "nbconvert_exporter": "python",
   "pygments_lexer": "ipython3",
   "version": "3.9.15"
  }
 },
 "nbformat": 4,
 "nbformat_minor": 5
}
