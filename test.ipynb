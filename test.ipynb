{
 "cells": [
  {
   "cell_type": "code",
   "execution_count": 1,
   "id": "63f480fb",
   "metadata": {},
   "outputs": [
    {
     "name": "stderr",
     "output_type": "stream",
     "text": [
      "\n",
      "----------------------------------------------------------------------\n",
      "Ran 0 tests in 0.000s\n",
      "\n",
      "OK\n"
     ]
    },
    {
     "data": {
      "text/plain": [
       "<unittest.main.TestProgram at 0x18ccc193610>"
      ]
     },
     "execution_count": 1,
     "metadata": {},
     "output_type": "execute_result"
    }
   ],
   "source": [
    "import unittest\n",
    "from jdrugconsumption import jdrugconsumption as jdg\n",
    "\n",
    "\n",
    "class drug_consumption(unittest.TestCase):\n",
    "    \n",
    "    def setUp(self):\n",
    "        t1 = jdg(\"LIP BALM SPF 15\")\n",
    "        print(t1)\n",
    "    \n",
    "#     def tearDown(self):\n",
    "#         print(\"\\nThis is the tearDown\")\n",
    "        \n",
    "    def brand_name(self):\n",
    "        self.assertEqual(str(type(t1)),\"<class 'pandas.core.frame.DataFrame'>\")\n",
    "        self.assertEqual(isinstance(t1, pd.DataFrame))\n",
    "            \n",
    "            \n",
    "unittest.main(argv=[''], verbosity=2, exit=False)"
   ]
  },
  {
   "cell_type": "code",
   "execution_count": 2,
   "id": "f48d601c",
   "metadata": {},
   "outputs": [],
   "source": [
    "# myinstance = dg(\"LIP BALM SPF 15\")\n",
    "# mytype = str(type(myinstance)) \n",
    "# mytypec = \"<class 'pandas.core.frame.DataFrame'>\"\n",
    "# isinstance(myinstance, pd.DataFrame)"
   ]
  }
 ],
 "metadata": {
  "kernelspec": {
   "display_name": "Python 3 (ipykernel)",
   "language": "python",
   "name": "python3"
  },
  "language_info": {
   "codemirror_mode": {
    "name": "ipython",
    "version": 3
   },
   "file_extension": ".py",
   "mimetype": "text/x-python",
   "name": "python",
   "nbconvert_exporter": "python",
   "pygments_lexer": "ipython3",
   "version": "3.9.15"
  }
 },
 "nbformat": 4,
 "nbformat_minor": 5
}
