{
 "cells": [
  {
   "cell_type": "code",
   "execution_count": 1,
   "id": "80f8fcf8-f575-40db-804c-c1528da5bcb7",
   "metadata": {},
   "outputs": [
    {
     "name": "stdout",
     "output_type": "stream",
     "text": [
      "Here are the results that we found:\n"
     ]
    },
    {
     "data": {
      "text/html": [
       "<div>\n",
       "<style scoped>\n",
       "    .dataframe tbody tr th:only-of-type {\n",
       "        vertical-align: middle;\n",
       "    }\n",
       "\n",
       "    .dataframe tbody tr th {\n",
       "        vertical-align: top;\n",
       "    }\n",
       "\n",
       "    .dataframe thead th {\n",
       "        text-align: right;\n",
       "    }\n",
       "</style>\n",
       "<table border=\"1\" class=\"dataframe\">\n",
       "  <thead>\n",
       "    <tr style=\"text-align: right;\">\n",
       "      <th></th>\n",
       "      <th>Ingredient Name</th>\n",
       "      <th>Vet Species</th>\n",
       "    </tr>\n",
       "  </thead>\n",
       "  <tbody>\n",
       "    <tr>\n",
       "      <th>0</th>\n",
       "      <td>Sulfamethazine</td>\n",
       "      <td>Cattle</td>\n",
       "    </tr>\n",
       "  </tbody>\n",
       "</table>\n",
       "</div>"
      ],
      "text/plain": [
       "  Ingredient Name Vet Species\n",
       "0  Sulfamethazine      Cattle"
      ]
     },
     "metadata": {},
     "output_type": "display_data"
    },
    {
     "data": {
      "text/plain": [
       "'There is no match for that brand name.'"
      ]
     },
     "metadata": {},
     "output_type": "display_data"
    },
    {
     "name": "stderr",
     "output_type": "stream",
     "text": [
      "test_ingredientVeterinarySpecies (__main__.test_ingredientVeterinarySpecies) ... "
     ]
    },
    {
     "name": "stdout",
     "output_type": "stream",
     "text": [
      "\n",
      "\u001b[1mThis is the setUp of test_jdrugconsumption.\n",
      "\n",
      " All good.\n",
      "Here are the results that we found:\n"
     ]
    },
    {
     "data": {
      "text/plain": [
       "'There is no match for that brand name.'"
      ]
     },
     "metadata": {},
     "output_type": "display_data"
    },
    {
     "name": "stderr",
     "output_type": "stream",
     "text": [
      "ok\n",
      "\n",
      "----------------------------------------------------------------------\n",
      "Ran 1 test in 6.962s\n",
      "\n",
      "OK\n"
     ]
    },
    {
     "name": "stdout",
     "output_type": "stream",
     "text": [
      "\n",
      "This is the tearDown of test_jdrugconsumption\n"
     ]
    },
    {
     "data": {
      "text/plain": [
       "<unittest.main.TestProgram at 0x1d7895bd6d0>"
      ]
     },
     "execution_count": 1,
     "metadata": {},
     "output_type": "execute_result"
    }
   ],
   "source": [
    "import unittest\n",
    "import pandas as pd\n",
    "from ingredientVeterinarySpecies import ingredientVeterinarySpecies as ivs\n",
    "from ingredientVeterinarySpecies import web_request as wr\n",
    "from ingredientVeterinarySpecies import check_filter as cf\n",
    "\n",
    "t1 = ivs(\"SULFAMETHAZINE\")\n",
    "t2 = ivs(\"\")\n",
    "\n",
    "class test_ingredientVeterinarySpecies(unittest.TestCase):\n",
    "    \n",
    "    def setUp(self):\n",
    "        print(\"\\n\\033[1mThis is the setUp of test_jdrugconsumption.\\n\\n All good.\")\n",
    "        self.key = \"9ec4bb641b31ddeeb9bfd84908c8dbb1\"\n",
    "        self.api1_url = \"https://dpd-hc-sc-apicast-production.api.canada.ca/v1/activeingredient?lang=en&type=json\"\n",
    "        self.wrong_api1_url = \"https://dpd-hc-sc-apicast-production.api.canada.ca/v1\"\n",
    "        self.filters = ['SULFAMETHAZINE']\n",
    "        self.filters_ids = [724]\n",
    "        self.id_with_ingredients = [724]\n",
    "        \n",
    "    def tearDown(self):\n",
    "        print(\"\\nThis is the tearDown of test_jdrugconsumption\")\n",
    "        \n",
    "    def test_ingredientVeterinarySpecies(self):\n",
    "        self.assertEqual(t2, 'There is no match for that brand name.')\n",
    "        \n",
    "        self.assertEqual(str(type(t1)),\"<class 'pandas.core.frame.DataFrame'>\")\n",
    "        self.assertEqual(wr(self.key, self.wrong_api1_url),\"The website did not respond, please try again!\")\n",
    "        \n",
    "        self.assertEqual(isinstance(cf(['SULFAMETHAZINE'],\"9ec4bb641b31ddeeb9bfd84908c8dbb1\",self.id_with_ingredients,self.filters_ids),pd.DataFrame), True)\n",
    "        self.assertEqual(cf([],\"9ec4bb641b31ddeeb9bfd84908c8dbb1\",self.id_with_ingredients,self.filters_ids), \"There is no match for that brand name.\")\n",
    "        \n",
    "        self.assertEqual(isinstance(wr(self.key, self.api1_url), list), True)\n",
    "        self.assertEqual(isinstance(wr(self.key, self.wrong_api1_url), list), False)\n",
    "        # self.assertEqual(str(type(t2)),\"<class 'NoneType'>\")\n",
    "        \n",
    "        self.assertEqual(isinstance(t1, pd.DataFrame), True)\n",
    "        self.assertEqual(isinstance(t2, pd.DataFrame), False)\n",
    "        \n",
    "        self.assertAlmostEqual(t1.iloc[0,0], \"Sulfamethazine\")\n",
    "        self.assertAlmostEqual(t1.iloc[0,1], \"Cattle\")\n",
    "        \n",
    "        self.assertAlmostEqual(str(ivs(\"\")), \"There is no match for that brand name.\")\n",
    "        \n",
    "        \n",
    "unittest.main(argv=[''], verbosity=2, exit=False)"
   ]
  },
  {
   "cell_type": "code",
   "execution_count": null,
   "id": "c027d17d-fe53-492a-85df-d2740e2da13e",
   "metadata": {},
   "outputs": [],
   "source": []
  }
 ],
 "metadata": {
  "kernelspec": {
   "display_name": "Python 3 (ipykernel)",
   "language": "python",
   "name": "python3"
  },
  "language_info": {
   "codemirror_mode": {
    "name": "ipython",
    "version": 3
   },
   "file_extension": ".py",
   "mimetype": "text/x-python",
   "name": "python",
   "nbconvert_exporter": "python",
   "pygments_lexer": "ipython3",
   "version": "3.9.12"
  }
 },
 "nbformat": 4,
 "nbformat_minor": 5
}
