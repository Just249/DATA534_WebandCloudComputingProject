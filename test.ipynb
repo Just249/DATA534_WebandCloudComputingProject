{
 "cells": [
  {
   "cell_type": "code",
   "execution_count": 33,
   "id": "80f8fcf8-f575-40db-804c-c1528da5bcb7",
   "metadata": {},
   "outputs": [
    {
     "name": "stdout",
     "output_type": "stream",
     "text": [
      "[724]\n",
      "https://dpd-hc-sc-apicast-production.api.canada.ca/v1/veterinaryspecies?lang=en&type=json&id=724\n",
      "Here are the results that we found:\n"
     ]
    },
    {
     "name": "stderr",
     "output_type": "stream",
     "text": [
      "test_ingredientVeterinarySpecies (__main__.test_ingredientVeterinarySpecies) ... ok\n",
      "\n",
      "----------------------------------------------------------------------\n",
      "Ran 1 test in 0.003s\n",
      "\n",
      "OK\n"
     ]
    },
    {
     "name": "stdout",
     "output_type": "stream",
     "text": [
      "[]\n",
      "There is no match for that brand name.\n",
      "\n",
      "\u001b[1mThis is the setUp of test_jdrugconsumption.\n",
      "\n",
      " All good.\n",
      "\n",
      "This is the tearDown of test_jdrugconsumption\n"
     ]
    },
    {
     "data": {
      "text/plain": [
       "<unittest.main.TestProgram at 0x2374befe220>"
      ]
     },
     "execution_count": 33,
     "metadata": {},
     "output_type": "execute_result"
    }
   ],
   "source": [
    "import unittest\n",
    "import pandas as pd\n",
    "from ingredientVeterinarySpecies import ingredientVeterinarySpecies as ivs\n",
    "\n",
    "t1 = ivs(\"SULFAMETHAZINE\")\n",
    "t2 = ivs(\"\")\n",
    "\n",
    "class test_ingredientVeterinarySpecies(unittest.TestCase):\n",
    "    \n",
    "    def setUp(self):\n",
    "        print(\"\\n\\033[1mThis is the setUp of test_jdrugconsumption.\\n\\n All good.\")\n",
    "    \n",
    "    def tearDown(self):\n",
    "        print(\"\\nThis is the tearDown of test_jdrugconsumption\")\n",
    "        \n",
    "    def test_ingredientVeterinarySpecies(self):\n",
    "        self.assertEqual(t2, None)\n",
    "        \n",
    "        self.assertEqual(str(type(t1)),\"<class 'pandas.core.frame.DataFrame'>\")\n",
    "        self.assertEqual(str(type(t2)),\"<class 'NoneType'>\")\n",
    "        \n",
    "        self.assertEqual(isinstance(t1, pd.DataFrame), True)\n",
    "        self.assertEqual(isinstance(t2, pd.DataFrame), False)\n",
    "        \n",
    "        self.assertAlmostEqual(t1.iloc[0,0], \"Sulfamethazine\")\n",
    "        self.assertAlmostEqual(t1.iloc[0,1], \"Cattle\")\n",
    "        \n",
    "        # self.assertAlmostEqual(str(ivs(\"\")), \"There is no match for that brand name.\")\n",
    "        \n",
    "        \n",
    "        \n",
    "        \n",
    "unittest.main(argv=[''], verbosity=2, exit=False)"
   ]
  },
  {
   "cell_type": "code",
   "execution_count": null,
   "id": "c027d17d-fe53-492a-85df-d2740e2da13e",
   "metadata": {},
   "outputs": [],
   "source": []
  }
 ],
 "metadata": {
  "kernelspec": {
   "display_name": "Python 3 (ipykernel)",
   "language": "python",
   "name": "python3"
  },
  "language_info": {
   "codemirror_mode": {
    "name": "ipython",
    "version": 3
   },
   "file_extension": ".py",
   "mimetype": "text/x-python",
   "name": "python",
   "nbconvert_exporter": "python",
   "pygments_lexer": "ipython3",
   "version": "3.9.12"
  }
 },
 "nbformat": 4,
 "nbformat_minor": 5
}
