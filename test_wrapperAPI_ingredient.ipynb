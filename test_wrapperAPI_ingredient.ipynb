{
 "cells": [
  {
   "cell_type": "code",
   "execution_count": 1,
   "id": "63f480fb",
   "metadata": {},
   "outputs": [
    {
     "name": "stdout",
     "output_type": "stream",
     "text": [
      "Here are the results that we found:\n",
      "Here are the results that we found:\n",
      "Here are the results that we found:\n"
     ]
    },
    {
     "name": "stderr",
     "output_type": "stream",
     "text": [
      "test_DrugIngredient (__main__.test_jdrugingredient) ... ok\n",
      "\n",
      "----------------------------------------------------------------------\n",
      "Ran 1 test in 0.003s\n",
      "\n",
      "OK\n"
     ]
    },
    {
     "name": "stdout",
     "output_type": "stream",
     "text": [
      "Here are the results that we found:\n",
      "\n",
      "\u001b[1mThis is the setUp of test_jdrugingredient.\n",
      "\n",
      " All good.\n",
      "\n",
      "This is the tearDown of test_jdrugingredient\n"
     ]
    },
    {
     "data": {
      "text/plain": [
       "<unittest.main.TestProgram at 0x20e0a4e27f0>"
      ]
     },
     "execution_count": 1,
     "metadata": {},
     "output_type": "execute_result"
    }
   ],
   "source": [
    "import pandas as pd\n",
    "import unittest\n",
    "from jdrugingredient import jdrugingredient as jdg\n",
    "\n",
    "api_token = \"257eb29dc538a64a9e9d3fdc69758cce\"\n",
    "\n",
    "t1 = jdg(\"LIP BALM SPF 15\",api_token)  # Valid drug, two ingredient\n",
    "t2 = jdg(\"\",api_token) # empty drug name input\n",
    "t3 = jdg(\"No such medicine\",api_token) # invalid drug name\n",
    "t4 = jdg(\"ISOPTO CARBACHOL 3%\",api_token) # valid drug, one ingredient\n",
    "\n",
    "class test_jdrugingredient(unittest.TestCase):\n",
    "    \n",
    "    def setUp(self):\n",
    "        print(\"\\n\\033[1mThis is the setUp of test_jdrugingredient.\\n\\n All good.\")\n",
    "    \n",
    "    def tearDown(self):\n",
    "        print(\"\\nThis is the tearDown of test_jdrugingredient\")\n",
    "        \n",
    "    def test_DrugIngredient(self):\n",
    "        # For t1\n",
    "        self.assertEqual(str(type(t1)),\"<class 'pandas.core.frame.DataFrame'>\")\n",
    "        self.assertEqual(isinstance(t1, pd.DataFrame), 1)\n",
    "        self.assertEqual(len(t1), 2) # should return 2 ingredient df rows\n",
    "        self.assertAlmostEqual(t1.iloc[0,0], \"Lip Balm Spf 15\") # ensure the name is correct\n",
    "        self.assertAlmostEqual(t1.iloc[1,0], \"Lip Balm Spf 15\")\n",
    "        self.assertAlmostEqual(t1.iloc[0,1], \"OCTINOXATE\") # verify the ingredient name 1\n",
    "        self.assertAlmostEqual(t1.iloc[1,1], \"OXYBENZONE\") # verify the ingredient name 2\n",
    "\n",
    "        # For t2\n",
    "        self.assertEqual(str(type(t2[\"Brand Name\"])),\"<class 'pandas.core.series.Series'>\")\n",
    "        self.assertNotEqual(str(type(t2)),\"<class 'pandas.core.series.Series'>\")\n",
    "        self.assertNotEqual(t2.empty, 0)\n",
    "  \n",
    "        # For t3\n",
    "        self.assertEqual(str(type(t3[\"Brand Name\"])),\"<class 'pandas.core.series.Series'>\")\n",
    "        self.assertNotEqual(str(type(t3)),\"<class 'pandas.core.series.Series'>\")\n",
    "        self.assertNotEqual(t3.empty, 0)\n",
    "    \n",
    "        # For t4\n",
    "        self.assertEqual(str(type(t4)),\"<class 'pandas.core.frame.DataFrame'>\")\n",
    "        self.assertEqual(isinstance(t4, pd.DataFrame), 1)\n",
    "        self.assertEqual(len(t4), 1) # should return 1 ingredient df rows\n",
    "        self.assertAlmostEqual(t4.iloc[0,0], \"Isopto Carbachol 3%\") # ensure the name is correct\n",
    "        self.assertAlmostEqual(t4.iloc[0,1], \"CARBACHOL\") # verify the ingredient name        \n",
    "\n",
    "            \n",
    "unittest.main(argv=[''], verbosity=2, exit=False)"
   ]
  },
  {
   "cell_type": "code",
   "execution_count": 2,
   "id": "f48d601c",
   "metadata": {},
   "outputs": [],
   "source": [
    "# myinstance = dg(\"LIP BALM SPF 15\")\n",
    "# mytype = str(type(myinstance)) \n",
    "# mytypec = \"<class 'pandas.core.frame.DataFrame'>\"\n",
    "# isinstance(myinstance, pd.DataFrame)"
   ]
  }
 ],
 "metadata": {
  "kernelspec": {
   "display_name": "Python 3 (ipykernel)",
   "language": "python",
   "name": "python3"
  },
  "language_info": {
   "codemirror_mode": {
    "name": "ipython",
    "version": 3
   },
   "file_extension": ".py",
   "mimetype": "text/x-python",
   "name": "python",
   "nbconvert_exporter": "python",
   "pygments_lexer": "ipython3",
   "version": "3.9.15"
  }
 },
 "nbformat": 4,
 "nbformat_minor": 5
}
