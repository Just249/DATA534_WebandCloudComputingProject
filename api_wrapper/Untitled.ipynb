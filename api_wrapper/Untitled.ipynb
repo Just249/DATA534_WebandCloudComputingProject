{
 "cells": [
  {
   "cell_type": "code",
   "execution_count": null,
   "id": "3f9f4972",
   "metadata": {},
   "outputs": [],
   "source": [
    "import Vim_jdrugconsumption as vimal\n",
    "import jdrugingredient as kenny\n",
    "import JCingredientVeterinarySpecies as justin"
   ]
  },
  {
   "cell_type": "code",
   "execution_count": null,
   "id": "427b9e63",
   "metadata": {},
   "outputs": [],
   "source": [
    "vimal.jdrugconsumption(\"ERYTHROCIN IV\", \"14ec6574be9f7ef563bce7b554798152\")"
   ]
  },
  {
   "cell_type": "code",
   "execution_count": null,
   "id": "2bc13765",
   "metadata": {},
   "outputs": [],
   "source": [
    "kenny.jdrugingredient(\"APO-CLOMIPRAMINE\", \"14ec6574be9f7ef563bce7b554798152\")"
   ]
  },
  {
   "cell_type": "code",
   "execution_count": null,
   "id": "66ac1783",
   "metadata": {},
   "outputs": [],
   "source": [
    "justin.ingredientVeterinarySpecies(\"17818\", \"14ec6574be9f7ef563bce7b554798152\")"
   ]
  },
  {
   "cell_type": "code",
   "execution_count": null,
   "id": "10edc0fa",
   "metadata": {},
   "outputs": [],
   "source": []
  },
  {
   "cell_type": "code",
   "execution_count": null,
   "id": "1494a4a7",
   "metadata": {},
   "outputs": [],
   "source": []
  },
  {
   "cell_type": "code",
   "execution_count": null,
   "id": "f62a293b",
   "metadata": {},
   "outputs": [],
   "source": []
  },
  {
   "cell_type": "code",
   "execution_count": null,
   "id": "f5a03934",
   "metadata": {},
   "outputs": [],
   "source": []
  },
  {
   "cell_type": "code",
   "execution_count": null,
   "id": "1c995a39",
   "metadata": {},
   "outputs": [],
   "source": []
  },
  {
   "cell_type": "code",
   "execution_count": null,
   "id": "cb8478f8",
   "metadata": {},
   "outputs": [],
   "source": []
  },
  {
   "cell_type": "code",
   "execution_count": null,
   "id": "14fdc03e",
   "metadata": {},
   "outputs": [],
   "source": []
  },
  {
   "cell_type": "code",
   "execution_count": null,
   "id": "efab273f",
   "metadata": {},
   "outputs": [],
   "source": []
  },
  {
   "cell_type": "code",
   "execution_count": null,
   "id": "abd94104",
   "metadata": {},
   "outputs": [],
   "source": []
  },
  {
   "cell_type": "code",
   "execution_count": null,
   "id": "cee34564",
   "metadata": {},
   "outputs": [],
   "source": []
  },
  {
   "cell_type": "code",
   "execution_count": null,
   "id": "09ae9fcd",
   "metadata": {},
   "outputs": [],
   "source": []
  },
  {
   "cell_type": "code",
   "execution_count": null,
   "id": "7de4b65e",
   "metadata": {},
   "outputs": [],
   "source": []
  },
  {
   "cell_type": "code",
   "execution_count": null,
   "id": "95c1cce8",
   "metadata": {},
   "outputs": [],
   "source": []
  }
 ],
 "metadata": {
  "kernelspec": {
   "display_name": "Python 3 (ipykernel)",
   "language": "python",
   "name": "python3"
  },
  "language_info": {
   "codemirror_mode": {
    "name": "ipython",
    "version": 3
   },
   "file_extension": ".py",
   "mimetype": "text/x-python",
   "name": "python",
   "nbconvert_exporter": "python",
   "pygments_lexer": "ipython3",
   "version": "3.9.15"
  }
 },
 "nbformat": 4,
 "nbformat_minor": 5
}
