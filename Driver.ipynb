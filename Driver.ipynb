{
 "cells": [
  {
   "cell_type": "markdown",
   "id": "dd01e038",
   "metadata": {},
   "source": [
    "# Using new py file"
   ]
  },
  {
   "cell_type": "code",
   "execution_count": 8,
   "id": "a47526e0",
   "metadata": {},
   "outputs": [
    {
     "name": "stdout",
     "output_type": "stream",
     "text": [
      "Here are the results that we found:\n"
     ]
    },
    {
     "data": {
      "text/plain": [
       "\"<class 'pandas.core.series.Series'>\""
      ]
     },
     "execution_count": 8,
     "metadata": {},
     "output_type": "execute_result"
    }
   ],
   "source": [
    "from jdrugconsumption import jdrugconsumption as jdg\n",
    "\n",
    "# jdg(\"ISOPTO CARBACHOL 3%\")\n",
    "# jdg(\"LIP BALM SPF 15\")\n",
    "# jdg(\"CHEW C BERRY TABLETS - 125MG\")\n",
    "# jdg(\"HENRY SCHEIN MINUTE TOPICAL FOAM FLUORIDE\")\n",
    "str(type(jdg(\"\")[\"Brand Name\"]))"
   ]
  },
  {
   "cell_type": "code",
   "execution_count": 2,
   "id": "911d1a20",
   "metadata": {},
   "outputs": [],
   "source": [
    "# test code for unit testing \n",
    "\n",
    "# myinstance = dg(\"LIP BALM SPF 15\")\n",
    "# mytype = str(type(myinstance)) \n",
    "# mytypec = \"<class 'pandas.core.frame.DataFrame'>\"\n",
    "# isinstance(myinstance, pd.DataFrame)"
   ]
  }
 ],
 "metadata": {
  "kernelspec": {
   "display_name": "Python 3 (ipykernel)",
   "language": "python",
   "name": "python3"
  },
  "language_info": {
   "codemirror_mode": {
    "name": "ipython",
    "version": 3
   },
   "file_extension": ".py",
   "mimetype": "text/x-python",
   "name": "python",
   "nbconvert_exporter": "python",
   "pygments_lexer": "ipython3",
   "version": "3.9.15"
  }
 },
 "nbformat": 4,
 "nbformat_minor": 5
}
