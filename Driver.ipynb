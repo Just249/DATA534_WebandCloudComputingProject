{
 "cells": [
  {
   "cell_type": "code",
   "execution_count": 5,
   "id": "0422388c",
   "metadata": {},
   "outputs": [],
   "source": [
    "from drugconsumption import drugconsumption as dg"
   ]
  },
  {
   "cell_type": "code",
   "execution_count": 6,
   "id": "f725325f",
   "metadata": {},
   "outputs": [
    {
     "name": "stdout",
     "output_type": "stream",
     "text": [
      "Here are the results that we found:\n"
     ]
    },
    {
     "data": {
      "text/html": [
       "<div>\n",
       "<style scoped>\n",
       "    .dataframe tbody tr th:only-of-type {\n",
       "        vertical-align: middle;\n",
       "    }\n",
       "\n",
       "    .dataframe tbody tr th {\n",
       "        vertical-align: top;\n",
       "    }\n",
       "\n",
       "    .dataframe thead th {\n",
       "        text-align: right;\n",
       "    }\n",
       "</style>\n",
       "<table border=\"1\" class=\"dataframe\">\n",
       "  <thead>\n",
       "    <tr style=\"text-align: right;\">\n",
       "      <th></th>\n",
       "      <th>Brand Name</th>\n",
       "      <th>Form</th>\n",
       "      <th>Administration Route</th>\n",
       "    </tr>\n",
       "  </thead>\n",
       "  <tbody>\n",
       "    <tr>\n",
       "      <th>0</th>\n",
       "      <td>Lip Balm Spf 15</td>\n",
       "      <td>Stick</td>\n",
       "      <td>Topical</td>\n",
       "    </tr>\n",
       "  </tbody>\n",
       "</table>\n",
       "</div>"
      ],
      "text/plain": [
       "        Brand Name   Form Administration Route\n",
       "0  Lip Balm Spf 15  Stick              Topical"
      ]
     },
     "execution_count": 6,
     "metadata": {},
     "output_type": "execute_result"
    }
   ],
   "source": [
    "dg(\"LIP BALM SPF 15\")\n"
   ]
  },
  {
   "cell_type": "code",
   "execution_count": 7,
   "id": "221bbed9-4102-4fc3-863c-b858591a8c30",
   "metadata": {},
   "outputs": [
    {
     "name": "stdout",
     "output_type": "stream",
     "text": [
      "There is no match for that brand name.\n"
     ]
    }
   ],
   "source": [
    "# dg(\"PLACIDYL CAP 200MG\")  # 225\n",
    "dg(\"ISOPTO CARBACHOL 3%\")  #255"
   ]
  },
  {
   "cell_type": "code",
   "execution_count": 8,
   "id": "c5618cb1-9e16-44ff-ae57-122d049fa52c",
   "metadata": {},
   "outputs": [
    {
     "name": "stdout",
     "output_type": "stream",
     "text": [
      "There is no match for that brand name.\n"
     ]
    }
   ],
   "source": [
    "dg(\"PLACIDYL CAP 200MG\")  # 225"
   ]
  },
  {
   "cell_type": "code",
   "execution_count": null,
   "id": "39a6fc4d-3ef0-4ae3-83c1-77801fd47391",
   "metadata": {},
   "outputs": [],
   "source": []
  }
 ],
 "metadata": {
  "kernelspec": {
   "display_name": "Python 3 (ipykernel)",
   "language": "python",
   "name": "python3"
  },
  "language_info": {
   "codemirror_mode": {
    "name": "ipython",
    "version": 3
   },
   "file_extension": ".py",
   "mimetype": "text/x-python",
   "name": "python",
   "nbconvert_exporter": "python",
   "pygments_lexer": "ipython3",
   "version": "3.9.15"
  }
 },
 "nbformat": 4,
 "nbformat_minor": 5
}
