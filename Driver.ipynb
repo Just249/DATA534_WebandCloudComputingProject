{
 "cells": [
  {
   "cell_type": "code",
   "execution_count": 13,
   "id": "96488ddb-83a5-4c65-b52b-8b2027493b5d",
   "metadata": {},
   "outputs": [
    {
     "name": "stdout",
     "output_type": "stream",
     "text": [
      "[724]\n",
      "https://dpd-hc-sc-apicast-production.api.canada.ca/v1/veterinaryspecies?lang=en&type=json&id=724\n",
      "Here are the results that we found:\n"
     ]
    },
    {
     "data": {
      "text/html": [
       "<div>\n",
       "<style scoped>\n",
       "    .dataframe tbody tr th:only-of-type {\n",
       "        vertical-align: middle;\n",
       "    }\n",
       "\n",
       "    .dataframe tbody tr th {\n",
       "        vertical-align: top;\n",
       "    }\n",
       "\n",
       "    .dataframe thead th {\n",
       "        text-align: right;\n",
       "    }\n",
       "</style>\n",
       "<table border=\"1\" class=\"dataframe\">\n",
       "  <thead>\n",
       "    <tr style=\"text-align: right;\">\n",
       "      <th></th>\n",
       "      <th>Ingredient Name</th>\n",
       "      <th>Vet Species</th>\n",
       "    </tr>\n",
       "  </thead>\n",
       "  <tbody>\n",
       "    <tr>\n",
       "      <th>0</th>\n",
       "      <td>Sulfamethazine</td>\n",
       "      <td>Cattle</td>\n",
       "    </tr>\n",
       "  </tbody>\n",
       "</table>\n",
       "</div>"
      ],
      "text/plain": [
       "  Ingredient Name Vet Species\n",
       "0  Sulfamethazine      Cattle"
      ]
     },
     "execution_count": 13,
     "metadata": {},
     "output_type": "execute_result"
    }
   ],
   "source": [
    "from ingredientVeterinarySpecies import ingredientVeterinarySpecies as ivs\n",
    "ivs(\"SULFAMETHAZINE\")"
   ]
  },
  {
   "cell_type": "code",
   "execution_count": null,
   "id": "098a082a-6572-42f8-be4c-a512f1376052",
   "metadata": {},
   "outputs": [],
   "source": []
  }
 ],
 "metadata": {
  "kernelspec": {
   "display_name": "Python 3 (ipykernel)",
   "language": "python",
   "name": "python3"
  },
  "language_info": {
   "codemirror_mode": {
    "name": "ipython",
    "version": 3
   },
   "file_extension": ".py",
   "mimetype": "text/x-python",
   "name": "python",
   "nbconvert_exporter": "python",
   "pygments_lexer": "ipython3",
   "version": "3.9.12"
  }
 },
 "nbformat": 4,
 "nbformat_minor": 5
}
