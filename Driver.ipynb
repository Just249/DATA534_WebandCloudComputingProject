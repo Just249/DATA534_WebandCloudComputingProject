{
 "cells": [
  {
   "cell_type": "markdown",
   "id": "dd01e038",
   "metadata": {},
   "source": [
    "# Using new py file"
   ]
  },
  {
   "cell_type": "code",
   "execution_count": 8,
   "id": "a47526e0",
   "metadata": {},
   "outputs": [
    {
     "name": "stdout",
     "output_type": "stream",
     "text": [
      "Here are the results that we found:\n"
     ]
    },
    {
     "data": {
      "text/html": [
       "<div>\n",
       "<style scoped>\n",
       "    .dataframe tbody tr th:only-of-type {\n",
       "        vertical-align: middle;\n",
       "    }\n",
       "\n",
       "    .dataframe tbody tr th {\n",
       "        vertical-align: top;\n",
       "    }\n",
       "\n",
       "    .dataframe thead th {\n",
       "        text-align: right;\n",
       "    }\n",
       "</style>\n",
       "<table border=\"1\" class=\"dataframe\">\n",
       "  <thead>\n",
       "    <tr style=\"text-align: right;\">\n",
       "      <th></th>\n",
       "      <th>Brand Name</th>\n",
       "      <th>Form</th>\n",
       "      <th>Administration Route</th>\n",
       "    </tr>\n",
       "  </thead>\n",
       "  <tbody>\n",
       "    <tr>\n",
       "      <th>0</th>\n",
       "      <td>Henry Schein Minute Topical Foam Fluoride</td>\n",
       "      <td>Aerosol</td>\n",
       "      <td>Dental</td>\n",
       "    </tr>\n",
       "  </tbody>\n",
       "</table>\n",
       "</div>"
      ],
      "text/plain": [
       "                                  Brand Name     Form Administration Route\n",
       "0  Henry Schein Minute Topical Foam Fluoride  Aerosol               Dental"
      ]
     },
     "execution_count": 8,
     "metadata": {},
     "output_type": "execute_result"
    }
   ],
   "source": [
    "from jdrugconsumption import jdrugconsumption as jdg\n",
    "\n",
    "# jdg(\"ISOPTO CARBACHOL 3%\")\n",
    "# jdg(\"BUSPIRONE\")\n",
    "# jdg(\"CHEW C BERRY TABLETS - 125MG\")\n",
    "jdg(\"HENRY SCHEIN MINUTE TOPICAL FOAM FLUORIDE\")"
   ]
  },
  {
   "cell_type": "code",
   "execution_count": 4,
   "id": "911d1a20",
   "metadata": {},
   "outputs": [],
   "source": [
    "# test code for unit testing \n",
    "\n",
    "# myinstance = dg(\"LIP BALM SPF 15\")\n",
    "# mytype = str(type(myinstance)) \n",
    "# mytypec = \"<class 'pandas.core.frame.DataFrame'>\"\n",
    "# isinstance(myinstance, pd.DataFrame)"
   ]
  }
 ],
 "metadata": {
  "kernelspec": {
   "display_name": "Python 3 (ipykernel)",
   "language": "python",
   "name": "python3"
  },
  "language_info": {
   "codemirror_mode": {
    "name": "ipython",
    "version": 3
   },
   "file_extension": ".py",
   "mimetype": "text/x-python",
   "name": "python",
   "nbconvert_exporter": "python",
   "pygments_lexer": "ipython3",
   "version": "3.9.15"
  }
 },
 "nbformat": 4,
 "nbformat_minor": 5
}
