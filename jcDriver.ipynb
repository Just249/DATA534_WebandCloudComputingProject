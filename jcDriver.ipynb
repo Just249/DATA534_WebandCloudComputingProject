{
 "cells": [
  {
   "cell_type": "code",
   "execution_count": 1,
   "id": "96488ddb-83a5-4c65-b52b-8b2027493b5d",
   "metadata": {},
   "outputs": [],
   "source": [
    "from JCingredientVeterinarySpecies import ingredientVeterinarySpecies as ivs\n",
    "from IPython import display"
   ]
  },
  {
   "cell_type": "markdown",
   "id": "bae5d11d-f9cd-4f44-bb63-b66bad3217c9",
   "metadata": {},
   "source": [
    "### Ingredients that have simiar name SULFAMETHAZINE SODIUM & SULFAMETHAZINE"
   ]
  },
  {
   "cell_type": "code",
   "execution_count": 2,
   "id": "52e6ac00-8971-4693-bb9e-824440729517",
   "metadata": {},
   "outputs": [
    {
     "name": "stdout",
     "output_type": "stream",
     "text": [
      "Here are the results that we found:\n"
     ]
    },
    {
     "data": {
      "text/html": [
       "<div>\n",
       "<style scoped>\n",
       "    .dataframe tbody tr th:only-of-type {\n",
       "        vertical-align: middle;\n",
       "    }\n",
       "\n",
       "    .dataframe tbody tr th {\n",
       "        vertical-align: top;\n",
       "    }\n",
       "\n",
       "    .dataframe thead th {\n",
       "        text-align: right;\n",
       "    }\n",
       "</style>\n",
       "<table border=\"1\" class=\"dataframe\">\n",
       "  <thead>\n",
       "    <tr style=\"text-align: right;\">\n",
       "      <th></th>\n",
       "      <th>Ingredient Name</th>\n",
       "      <th>Vet Species</th>\n",
       "    </tr>\n",
       "  </thead>\n",
       "  <tbody>\n",
       "    <tr>\n",
       "      <th>0</th>\n",
       "      <td>Sulfamethazine</td>\n",
       "      <td>Cattle</td>\n",
       "    </tr>\n",
       "  </tbody>\n",
       "</table>\n",
       "</div>"
      ],
      "text/plain": [
       "  Ingredient Name Vet Species\n",
       "0  Sulfamethazine      Cattle"
      ]
     },
     "metadata": {},
     "output_type": "display_data"
    }
   ],
   "source": [
    "display.display(ivs(\"SULFAMETHAZINE\",\"9ec4bb641b31ddeeb9bfd84908c8dbb1\"))"
   ]
  },
  {
   "cell_type": "markdown",
   "id": "15bf2159-51d2-4cee-a83b-002a1880119e",
   "metadata": {},
   "source": [
    "### Ingredients have the same drug code(used in same drug)"
   ]
  },
  {
   "cell_type": "code",
   "execution_count": 3,
   "id": "c5153b72-101b-48f1-b1bf-f4aafe91cfaa",
   "metadata": {},
   "outputs": [
    {
     "name": "stdout",
     "output_type": "stream",
     "text": [
      "Here are the results that we found:\n"
     ]
    },
    {
     "data": {
      "text/html": [
       "<div>\n",
       "<style scoped>\n",
       "    .dataframe tbody tr th:only-of-type {\n",
       "        vertical-align: middle;\n",
       "    }\n",
       "\n",
       "    .dataframe tbody tr th {\n",
       "        vertical-align: top;\n",
       "    }\n",
       "\n",
       "    .dataframe thead th {\n",
       "        text-align: right;\n",
       "    }\n",
       "</style>\n",
       "<table border=\"1\" class=\"dataframe\">\n",
       "  <thead>\n",
       "    <tr style=\"text-align: right;\">\n",
       "      <th></th>\n",
       "      <th>Ingredient Name</th>\n",
       "      <th>Vet Species</th>\n",
       "    </tr>\n",
       "  </thead>\n",
       "  <tbody>\n",
       "    <tr>\n",
       "      <th>0</th>\n",
       "      <td>Trenbolone Acetate</td>\n",
       "      <td>Cattle</td>\n",
       "    </tr>\n",
       "  </tbody>\n",
       "</table>\n",
       "</div>"
      ],
      "text/plain": [
       "      Ingredient Name Vet Species\n",
       "0  Trenbolone Acetate      Cattle"
      ]
     },
     "metadata": {},
     "output_type": "display_data"
    }
   ],
   "source": [
    "display.display(ivs(\"TRENBOLONE ACETATE\",\"9ec4bb641b31ddeeb9bfd84908c8dbb1\"))"
   ]
  },
  {
   "cell_type": "code",
   "execution_count": 4,
   "id": "d07823e7-d33a-488e-afe5-54732c609538",
   "metadata": {},
   "outputs": [
    {
     "name": "stdout",
     "output_type": "stream",
     "text": [
      "Here are the results that we found:\n"
     ]
    },
    {
     "data": {
      "text/html": [
       "<div>\n",
       "<style scoped>\n",
       "    .dataframe tbody tr th:only-of-type {\n",
       "        vertical-align: middle;\n",
       "    }\n",
       "\n",
       "    .dataframe tbody tr th {\n",
       "        vertical-align: top;\n",
       "    }\n",
       "\n",
       "    .dataframe thead th {\n",
       "        text-align: right;\n",
       "    }\n",
       "</style>\n",
       "<table border=\"1\" class=\"dataframe\">\n",
       "  <thead>\n",
       "    <tr style=\"text-align: right;\">\n",
       "      <th></th>\n",
       "      <th>Ingredient Name</th>\n",
       "      <th>Vet Species</th>\n",
       "    </tr>\n",
       "  </thead>\n",
       "  <tbody>\n",
       "    <tr>\n",
       "      <th>0</th>\n",
       "      <td>Tylosin Tartrate</td>\n",
       "      <td>Swine (pigs)</td>\n",
       "    </tr>\n",
       "  </tbody>\n",
       "</table>\n",
       "</div>"
      ],
      "text/plain": [
       "    Ingredient Name   Vet Species\n",
       "0  Tylosin Tartrate  Swine (pigs)"
      ]
     },
     "metadata": {},
     "output_type": "display_data"
    }
   ],
   "source": [
    "display.display(ivs(\"TYLOSIN TARTRATE\",\"9ec4bb641b31ddeeb9bfd84908c8dbb1\"))"
   ]
  },
  {
   "cell_type": "markdown",
   "id": "e334a2a3-85d4-460f-89c8-456aa7e7b158",
   "metadata": {},
   "source": [
    "### Ingredient that were not used on Veterinary Specie"
   ]
  },
  {
   "cell_type": "code",
   "execution_count": 5,
   "id": "bd1acf2e-ae0b-4cb8-9234-9b5cfea23de3",
   "metadata": {},
   "outputs": [
    {
     "data": {
      "text/plain": [
       "'There is no match for that brand name.'"
      ]
     },
     "metadata": {},
     "output_type": "display_data"
    }
   ],
   "source": [
    "display.display(ivs(\"ICE-CREAM\",\"9ec4bb641b31ddeeb9bfd84908c8dbb1\"))"
   ]
  }
 ],
 "metadata": {
  "kernelspec": {
   "display_name": "Python 3 (ipykernel)",
   "language": "python",
   "name": "python3"
  },
  "language_info": {
   "codemirror_mode": {
    "name": "ipython",
    "version": 3
   },
   "file_extension": ".py",
   "mimetype": "text/x-python",
   "name": "python",
   "nbconvert_exporter": "python",
   "pygments_lexer": "ipython3",
   "version": "3.9.12"
  }
 },
 "nbformat": 4,
 "nbformat_minor": 5
}
